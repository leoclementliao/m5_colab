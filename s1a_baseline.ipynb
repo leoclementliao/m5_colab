{
  "nbformat": 4,
  "nbformat_minor": 0,
  "metadata": {
    "kernelspec": {
      "display_name": "Python (dash)",
      "language": "python",
      "name": "python3"
    },
    "language_info": {
      "codemirror_mode": {
        "name": "ipython",
        "version": 3
      },
      "file_extension": ".py",
      "mimetype": "text/x-python",
      "name": "python",
      "nbconvert_exporter": "python",
      "pygments_lexer": "ipython3",
      "version": "3.7.6"
    },
    "colab": {
      "name": "s1a-baseline.ipynb",
      "provenance": [],
      "collapsed_sections": [],
      "toc_visible": true,
      "machine_shape": "hm",
      "include_colab_link": true
    }
  },
  "cells": [
    {
      "cell_type": "markdown",
      "metadata": {
        "id": "view-in-github",
        "colab_type": "text"
      },
      "source": [
        "<a href=\"https://colab.research.google.com/github/leoclementliao/m5_colab/blob/master/s1a_baseline.ipynb\" target=\"_parent\"><img src=\"https://colab.research.google.com/assets/colab-badge.svg\" alt=\"Open In Colab\"/></a>"
      ]
    },
    {
      "cell_type": "code",
      "metadata": {
        "id": "1z4eFdGUbkdo",
        "colab_type": "code",
        "colab": {
          "base_uri": "https://localhost:8080/",
          "height": 35
        },
        "outputId": "e4a42633-7aab-48f3-88cd-d7ab3f199ed7"
      },
      "source": [
        "!/opt/bin/nvidia-smi"
      ],
      "execution_count": 2,
      "outputs": [
        {
          "output_type": "stream",
          "text": [
            "/bin/bash: /opt/bin/nvidia-smi: No such file or directory\n"
          ],
          "name": "stdout"
        }
      ]
    },
    {
      "cell_type": "code",
      "metadata": {
        "id": "gea7QAoIbwya",
        "colab_type": "code",
        "colab": {
          "base_uri": "https://localhost:8080/",
          "height": 35
        },
        "outputId": "a7785370-1685-4236-962a-6ee96edc33be"
      },
      "source": [
        "from google.colab import drive\n",
        "drive.mount('/content/drive')"
      ],
      "execution_count": 3,
      "outputs": [
        {
          "output_type": "stream",
          "text": [
            "Drive already mounted at /content/drive; to attempt to forcibly remount, call drive.mount(\"/content/drive\", force_remount=True).\n"
          ],
          "name": "stdout"
        }
      ]
    },
    {
      "cell_type": "code",
      "metadata": {
        "id": "h319AdAebtX9",
        "colab_type": "code",
        "colab": {
          "base_uri": "https://localhost:8080/",
          "height": 122
        },
        "outputId": "2fd6069c-01ff-4c23-8486-3541de2ead39"
      },
      "source": [
        "% cp -r '/content/drive/My Drive/Colab Notebooks/kaggle_M5/data' '/content'\n",
        "! unzip '/content/data/m5-forecasting-accuracy.zip' -d '/content/m5-forecasting-accuracy'\n",
        "!ls"
      ],
      "execution_count": 4,
      "outputs": [
        {
          "output_type": "stream",
          "text": [
            "Archive:  /content/data/m5-forecasting-accuracy.zip\n",
            "  inflating: /content/m5-forecasting-accuracy/calendar.csv  \n",
            "  inflating: /content/m5-forecasting-accuracy/sales_train_validation.csv  \n",
            "  inflating: /content/m5-forecasting-accuracy/sample_submission.csv  \n",
            "  inflating: /content/m5-forecasting-accuracy/sell_prices.csv  \n",
            "data  drive  m5-forecasting-accuracy  sample_data\n"
          ],
          "name": "stdout"
        }
      ]
    },
    {
      "cell_type": "code",
      "metadata": {
        "id": "tN8T1PiKbtb_",
        "colab_type": "code",
        "colab": {}
      },
      "source": [
        "INPUT_DIR = '/content/m5-forecasting-accuracy'\n",
        "OUTPUT_DIR = '/content/drive/My Drive/Colab Notebooks/kaggle_M5/submission/submission_1a_lgb.csv'"
      ],
      "execution_count": 0,
      "outputs": []
    },
    {
      "cell_type": "code",
      "metadata": {
        "id": "wrCYQ67VbdJb",
        "colab_type": "code",
        "colab": {
          "base_uri": "https://localhost:8080/",
          "height": 72
        },
        "outputId": "55b6589e-d55a-40f4-d699-b58f45b7f5bf"
      },
      "source": [
        "import os\n",
        "import gc\n",
        "import warnings\n",
        "\n",
        "import pandas as pd\n",
        "from pandas.plotting import register_matplotlib_converters\n",
        "import numpy as np\n",
        "import matplotlib.pyplot as plt\n",
        "import seaborn as sns\n",
        "import lightgbm as lgb\n",
        "from sklearn.metrics import mean_squared_error\n",
        "from sklearn.preprocessing import LabelEncoder\n",
        "\n",
        "import sys\n",
        "import lightgbm as lgb\n",
        "from datetime import datetime, timedelta\n"
      ],
      "execution_count": 6,
      "outputs": [
        {
          "output_type": "stream",
          "text": [
            "/usr/local/lib/python3.6/dist-packages/statsmodels/tools/_testing.py:19: FutureWarning: pandas.util.testing is deprecated. Use the functions in the public API at pandas.testing instead.\n",
            "  import pandas.util.testing as tm\n"
          ],
          "name": "stderr"
        }
      ]
    },
    {
      "cell_type": "code",
      "metadata": {
        "id": "r91JloWubdJs",
        "colab_type": "code",
        "colab": {}
      },
      "source": [
        "def reduce_mem_usage(df, verbose=True):\n",
        "    numerics = ['int16', 'int32', 'int64', 'float16', 'float32', 'float64']\n",
        "    start_mem = df.memory_usage().sum() / 1024**2    \n",
        "    for col in df.columns:\n",
        "        col_type = df[col].dtypes\n",
        "        if col_type in numerics: \n",
        "            c_min = df[col].min()\n",
        "            c_max = df[col].max()\n",
        "            if str(col_type)[:3] == 'int':\n",
        "                if c_min > np.iinfo(np.int8).min and c_max < np.iinfo(np.int8).max:\n",
        "                    df[col] = df[col].astype(np.int8)\n",
        "                elif c_min > np.iinfo(np.int16).min and c_max < np.iinfo(np.int16).max:\n",
        "                    df[col] = df[col].astype(np.int16)\n",
        "                elif c_min > np.iinfo(np.int32).min and c_max < np.iinfo(np.int32).max:\n",
        "                    df[col] = df[col].astype(np.int32)\n",
        "                elif c_min > np.iinfo(np.int64).min and c_max < np.iinfo(np.int64).max:\n",
        "                    df[col] = df[col].astype(np.int64)  \n",
        "            else:\n",
        "                if c_min > np.finfo(np.float16).min and c_max < np.finfo(np.float16).max:\n",
        "                    df[col] = df[col].astype(np.float16)\n",
        "                elif c_min > np.finfo(np.float32).min and c_max < np.finfo(np.float32).max:\n",
        "                    df[col] = df[col].astype(np.float32)\n",
        "                else:\n",
        "                    df[col] = df[col].astype(np.float64)    \n",
        "    end_mem = df.memory_usage().sum() / 1024**2\n",
        "    if verbose: print('Mem. usage decreased to {:5.2f} Mb ({:.1f}% reduction)'.format(end_mem, 100 * (start_mem - end_mem) / start_mem))\n",
        "    return df"
      ],
      "execution_count": 0,
      "outputs": []
    },
    {
      "cell_type": "code",
      "metadata": {
        "id": "D-L0eq7XbdJv",
        "colab_type": "code",
        "colab": {}
      },
      "source": [
        "def create_train_data(train_start=750,test_start=1800,is_train=True):\n",
        "    ## Basic parameter\n",
        "    PRICE_DTYPES = {'store_id':'category', 'item_id':'category', 'wm_yr_wk':'int16',\n",
        "                  'sell_price':'float32'}\n",
        "    CAL_DTYPES = {\"event_name_1\": \"category\", \"event_name_2\": \"category\", \"event_type_1\": \"category\", \n",
        "                \"event_type_2\": \"category\", \"weekday\": \"category\", 'wm_yr_wk': 'int16', \"wday\": \"int16\",\n",
        "                \"month\": \"int16\", \"year\": \"int16\", \"snap_CA\": \"uint8\", 'snap_TX': 'uint8', 'snap_WI': 'uint8'}\n",
        "    start_day = train_start if is_train else test_start\n",
        "    numcols = [f\"d_{day}\" for day in range(start_day,1914)]\n",
        "    catcols = ['id', 'item_id', 'dept_id','store_id', 'cat_id', 'state_id']\n",
        "    SALE_DTYPES = {col: 'category' for col in catcols}\n",
        "    SALE_DTYPES.update({col: 'float32' for col in numcols})\n",
        "\n",
        "    ## Read data with specific format\n",
        "    price_data = pd.read_csv(f\"{INPUT_DIR}/sell_prices.csv\",dtype=PRICE_DTYPES).pipe(reduce_mem_usage)\n",
        "    cal_data = pd.read_csv(f\"{INPUT_DIR}/calendar.csv\",dtype=CAL_DTYPES).pipe(reduce_mem_usage)\n",
        "    sale_data = pd.read_csv(f\"{INPUT_DIR}/sales_train_validation.csv\",dtype=SALE_DTYPES,usecols=catcols+numcols).pipe(reduce_mem_usage)\n",
        "\n",
        "    ## category encode to int16\n",
        "    for col, col_dtype in PRICE_DTYPES.items():\n",
        "        if col_dtype == \"category\":\n",
        "            price_data[col] = price_data[col].cat.codes.astype(\"int16\")\n",
        "            price_data[col] -= price_data[col].min()\n",
        "\n",
        "    cal_data[\"date\"] = pd.to_datetime(cal_data[\"date\"])\n",
        "    for col, col_dtype in CAL_DTYPES.items():\n",
        "        if col_dtype == \"category\":\n",
        "            cal_data[col] = cal_data[col].cat.codes.astype(\"int16\")\n",
        "            cal_data[col] -= cal_data[col].min()\n",
        "\n",
        "    for col in catcols:\n",
        "        if col != \"id\":\n",
        "            sale_data[col] = sale_data[col].cat.codes.astype(\"int16\")\n",
        "            sale_data[col] -= sale_data[col].min()\n",
        "\n",
        "    ## Extension of days to test area\n",
        "    if not is_train:\n",
        "        for day in range(1913+1, 1913+2*28+1):\n",
        "            sale_data[f'd_{day}'] = np.nan\n",
        "\n",
        "    ## Melt day information to one column\n",
        "    sale_data = pd.melt(sale_data,\n",
        "                        id_vars = catcols,\n",
        "                        value_vars = [col for col in sale_data.columns if col.startswith('d_')],\n",
        "                        var_name = 'd',\n",
        "                        value_name = 'sales'\n",
        "                       )\n",
        "    sale_data = sale_data.merge(cal_data, on= \"d\", copy = False)\n",
        "    sale_data = sale_data.merge(price_data, on=['store_id', 'item_id', 'wm_yr_wk'], copy=False)\n",
        "    \n",
        "    return sale_data"
      ],
      "execution_count": 0,
      "outputs": []
    },
    {
      "cell_type": "code",
      "metadata": {
        "id": "JAmzD3RfbdJz",
        "colab_type": "code",
        "colab": {}
      },
      "source": [
        "def create_feature(sale_data, is_train=True, day=None):\n",
        "\n",
        "    ## week lag (7 days), month lag (28 dyas)\n",
        "    lags = [7, 28]\n",
        "    lag_cols = [f'lag_{lag}' for lag in lags]\n",
        "\n",
        "    ## shift lag data\n",
        "    if is_train:\n",
        "        for lag, lag_col in zip(lags, lag_cols):\n",
        "            sale_data[lag_col] = sale_data[['id', 'sales']].groupby('id')['sales'].shift(lag)\n",
        "    else:\n",
        "        for lag, lag_col in zip(lags, lag_cols):\n",
        "            sale_data.loc[sale_data.date == day, lag_col] = \\\n",
        "            sale_data.loc[sale_data.date ==day-timedelta(days=lag), 'sales'].values  \n",
        "\n",
        "    ## windows average\n",
        "    wins = [7, 28]\n",
        "    if is_train:\n",
        "        for win in wins :\n",
        "            for lag,lag_col in zip(lags, lag_cols):\n",
        "                sale_data[f\"rmean_{lag}_{win}\"] = \\\n",
        "                sale_data[[\"id\", lag_col]].groupby(\"id\")[lag_col]\\\n",
        "                .transform(lambda x : x.rolling(win).mean())\n",
        "    else:\n",
        "        for win in wins:\n",
        "            for lag in lags:\n",
        "                df_window = sale_data[(sale_data.date <= day-timedelta(days=lag)) & (sale_data.date > day-timedelta(days=lag+win))]\n",
        "                df_window_grouped = df_window.groupby(\"id\").agg({'sales':'mean'}).reindex(sale_data.loc[sale_data.date==day,'id'])\n",
        "                sale_data.loc[sale_data.date == day,f\"rmean_{lag}_{win}\"] = df_window_grouped.sales.values   \n",
        "\n",
        "    ## Get time related features {feat_name: func}\n",
        "    date_features = {\n",
        "                \"wday\": \"weekday\",\n",
        "                \"week\": \"weekofyear\",\n",
        "                \"month\": \"month\",\n",
        "                \"quarter\": \"quarter\",\n",
        "                \"year\": \"year\",\n",
        "                \"mday\": \"day\",\n",
        "            }\n",
        "    for date_feat_name, date_feat_func in date_features.items():\n",
        "        if date_feat_name in sale_data.columns:\n",
        "            sale_data[date_feat_name] = sale_data[date_feat_name].astype(\"int16\")\n",
        "        else:\n",
        "            sale_data[date_feat_name] = getattr(sale_data[\"date\"].dt, date_feat_func).astype(\"int16\")\n",
        "\n",
        "    return sale_data        "
      ],
      "execution_count": 0,
      "outputs": []
    },
    {
      "cell_type": "code",
      "metadata": {
        "id": "5q0S152_bdJ3",
        "colab_type": "code",
        "colab": {
          "base_uri": "https://localhost:8080/",
          "height": 87
        },
        "outputId": "cd9887b5-753c-43bf-85ad-f4df399ac926"
      },
      "source": [
        "sale_data = create_train_data(train_start=350,is_train=True)\n",
        "sale_data = create_feature(sale_data).pipe(reduce_mem_usage)"
      ],
      "execution_count": 10,
      "outputs": [
        {
          "output_type": "stream",
          "text": [
            "Mem. usage decreased to 45.77 Mb (22.2% reduction)\n",
            "Mem. usage decreased to  0.06 Mb (6.0% reduction)\n",
            "Mem. usage decreased to 92.77 Mb (49.5% reduction)\n",
            "Mem. usage decreased to 2525.56 Mb (17.7% reduction)\n"
          ],
          "name": "stdout"
        }
      ]
    },
    {
      "cell_type": "code",
      "metadata": {
        "id": "aWQejwOvbdJ6",
        "colab_type": "code",
        "colab": {
          "base_uri": "https://localhost:8080/",
          "height": 140
        },
        "outputId": "be85fc85-7f40-4022-b728-151da7b75625"
      },
      "source": [
        "sale_data.dropna(inplace=True)\n",
        "print(sale_data.columns)"
      ],
      "execution_count": 11,
      "outputs": [
        {
          "output_type": "stream",
          "text": [
            "Index(['id', 'item_id', 'dept_id', 'store_id', 'cat_id', 'state_id', 'd',\n",
            "       'sales', 'date', 'wm_yr_wk', 'weekday', 'wday', 'month', 'year',\n",
            "       'event_name_1', 'event_type_1', 'event_name_2', 'event_type_2',\n",
            "       'snap_CA', 'snap_TX', 'snap_WI', 'sell_price', 'lag_7', 'lag_28',\n",
            "       'rmean_7_7', 'rmean_28_7', 'rmean_7_28', 'rmean_28_28', 'week',\n",
            "       'quarter', 'mday'],\n",
            "      dtype='object')\n"
          ],
          "name": "stdout"
        }
      ]
    },
    {
      "cell_type": "code",
      "metadata": {
        "id": "PL7mcthji3uT",
        "colab_type": "code",
        "colab": {}
      },
      "source": [
        "drop_cols = ['id', 'date', 'sales', 'd', 'wm_yr_wk', 'weekday']\n",
        "\n",
        "train_cols=[\n",
        "            'item_id', 'dept_id', 'store_id', 'cat_id', 'state_id', 'sell_price',\n",
        "            'wday', 'month', 'year', 'quarter', 'mday', 'week', \n",
        "            'event_name_1', 'event_type_1', 'event_name_2', 'event_type_2', \n",
        "            'snap_CA', 'snap_TX', 'snap_WI',\n",
        "            # 'lag_1', 'rmean_1_7', 'rmean_1_28',\n",
        "            'lag_7', 'rmean_7_7', 'rmean_7_28',\n",
        "            'lag_28', 'rmean_28_7', 'rmean_28_28', \n",
        "           ]\n",
        "\n",
        "cat_feats = ['item_id', 'dept_id','store_id', 'cat_id', 'state_id']\\\n",
        "+ [\"event_name_1\", \"event_name_2\", \"event_type_1\", \"event_type_2\"]"
      ],
      "execution_count": 0,
      "outputs": []
    },
    {
      "cell_type": "code",
      "metadata": {
        "id": "-kqkUGxjbdJ9",
        "colab_type": "code",
        "colab": {
          "base_uri": "https://localhost:8080/",
          "height": 35
        },
        "outputId": "05f5e9c3-4274-4bd9-c9cc-0dd6fd3ad091"
      },
      "source": [
        "X_train = sale_data[train_cols]\n",
        "y_train = sale_data['sales']\n",
        "\n",
        "del sale_data\n",
        "gc.collect()"
      ],
      "execution_count": 13,
      "outputs": [
        {
          "output_type": "execute_result",
          "data": {
            "text/plain": [
              "43"
            ]
          },
          "metadata": {
            "tags": []
          },
          "execution_count": 13
        }
      ]
    },
    {
      "cell_type": "code",
      "metadata": {
        "id": "7bqo93xsbdKA",
        "colab_type": "code",
        "colab": {
          "base_uri": "https://localhost:8080/",
          "height": 218
        },
        "outputId": "3974cbfe-ae46-4d87-d81b-a2a24890cc59"
      },
      "source": [
        "X_train.head()"
      ],
      "execution_count": 14,
      "outputs": [
        {
          "output_type": "execute_result",
          "data": {
            "text/html": [
              "<div>\n",
              "<style scoped>\n",
              "    .dataframe tbody tr th:only-of-type {\n",
              "        vertical-align: middle;\n",
              "    }\n",
              "\n",
              "    .dataframe tbody tr th {\n",
              "        vertical-align: top;\n",
              "    }\n",
              "\n",
              "    .dataframe thead th {\n",
              "        text-align: right;\n",
              "    }\n",
              "</style>\n",
              "<table border=\"1\" class=\"dataframe\">\n",
              "  <thead>\n",
              "    <tr style=\"text-align: right;\">\n",
              "      <th></th>\n",
              "      <th>item_id</th>\n",
              "      <th>dept_id</th>\n",
              "      <th>store_id</th>\n",
              "      <th>cat_id</th>\n",
              "      <th>state_id</th>\n",
              "      <th>sell_price</th>\n",
              "      <th>wday</th>\n",
              "      <th>month</th>\n",
              "      <th>year</th>\n",
              "      <th>quarter</th>\n",
              "      <th>mday</th>\n",
              "      <th>week</th>\n",
              "      <th>event_name_1</th>\n",
              "      <th>event_type_1</th>\n",
              "      <th>event_name_2</th>\n",
              "      <th>event_type_2</th>\n",
              "      <th>snap_CA</th>\n",
              "      <th>snap_TX</th>\n",
              "      <th>snap_WI</th>\n",
              "      <th>lag_7</th>\n",
              "      <th>rmean_7_7</th>\n",
              "      <th>rmean_7_28</th>\n",
              "      <th>lag_28</th>\n",
              "      <th>rmean_28_7</th>\n",
              "      <th>rmean_28_28</th>\n",
              "    </tr>\n",
              "  </thead>\n",
              "  <tbody>\n",
              "    <tr>\n",
              "      <th>869062</th>\n",
              "      <td>1</td>\n",
              "      <td>0</td>\n",
              "      <td>0</td>\n",
              "      <td>0</td>\n",
              "      <td>0</td>\n",
              "      <td>3.970703</td>\n",
              "      <td>6</td>\n",
              "      <td>3</td>\n",
              "      <td>2012</td>\n",
              "      <td>1</td>\n",
              "      <td>8</td>\n",
              "      <td>10</td>\n",
              "      <td>24</td>\n",
              "      <td>3</td>\n",
              "      <td>0</td>\n",
              "      <td>0</td>\n",
              "      <td>1</td>\n",
              "      <td>0</td>\n",
              "      <td>1</td>\n",
              "      <td>0.0</td>\n",
              "      <td>0.000000</td>\n",
              "      <td>0.214233</td>\n",
              "      <td>0.0</td>\n",
              "      <td>0.142822</td>\n",
              "      <td>0.214233</td>\n",
              "    </tr>\n",
              "    <tr>\n",
              "      <th>869063</th>\n",
              "      <td>1</td>\n",
              "      <td>0</td>\n",
              "      <td>0</td>\n",
              "      <td>0</td>\n",
              "      <td>0</td>\n",
              "      <td>3.970703</td>\n",
              "      <td>7</td>\n",
              "      <td>3</td>\n",
              "      <td>2012</td>\n",
              "      <td>1</td>\n",
              "      <td>9</td>\n",
              "      <td>10</td>\n",
              "      <td>0</td>\n",
              "      <td>0</td>\n",
              "      <td>0</td>\n",
              "      <td>0</td>\n",
              "      <td>1</td>\n",
              "      <td>1</td>\n",
              "      <td>1</td>\n",
              "      <td>0.0</td>\n",
              "      <td>0.000000</td>\n",
              "      <td>0.178589</td>\n",
              "      <td>1.0</td>\n",
              "      <td>0.142822</td>\n",
              "      <td>0.250000</td>\n",
              "    </tr>\n",
              "    <tr>\n",
              "      <th>869069</th>\n",
              "      <td>3</td>\n",
              "      <td>0</td>\n",
              "      <td>0</td>\n",
              "      <td>0</td>\n",
              "      <td>0</td>\n",
              "      <td>4.339844</td>\n",
              "      <td>6</td>\n",
              "      <td>3</td>\n",
              "      <td>2012</td>\n",
              "      <td>1</td>\n",
              "      <td>8</td>\n",
              "      <td>10</td>\n",
              "      <td>24</td>\n",
              "      <td>3</td>\n",
              "      <td>0</td>\n",
              "      <td>0</td>\n",
              "      <td>1</td>\n",
              "      <td>0</td>\n",
              "      <td>1</td>\n",
              "      <td>3.0</td>\n",
              "      <td>1.857422</td>\n",
              "      <td>1.392578</td>\n",
              "      <td>2.0</td>\n",
              "      <td>1.142578</td>\n",
              "      <td>1.678711</td>\n",
              "    </tr>\n",
              "    <tr>\n",
              "      <th>869070</th>\n",
              "      <td>3</td>\n",
              "      <td>0</td>\n",
              "      <td>0</td>\n",
              "      <td>0</td>\n",
              "      <td>0</td>\n",
              "      <td>4.339844</td>\n",
              "      <td>7</td>\n",
              "      <td>3</td>\n",
              "      <td>2012</td>\n",
              "      <td>1</td>\n",
              "      <td>9</td>\n",
              "      <td>10</td>\n",
              "      <td>0</td>\n",
              "      <td>0</td>\n",
              "      <td>0</td>\n",
              "      <td>0</td>\n",
              "      <td>1</td>\n",
              "      <td>1</td>\n",
              "      <td>1</td>\n",
              "      <td>1.0</td>\n",
              "      <td>2.000000</td>\n",
              "      <td>1.392578</td>\n",
              "      <td>0.0</td>\n",
              "      <td>1.000000</td>\n",
              "      <td>1.607422</td>\n",
              "    </tr>\n",
              "    <tr>\n",
              "      <th>869076</th>\n",
              "      <td>4</td>\n",
              "      <td>0</td>\n",
              "      <td>0</td>\n",
              "      <td>0</td>\n",
              "      <td>0</td>\n",
              "      <td>2.980469</td>\n",
              "      <td>6</td>\n",
              "      <td>3</td>\n",
              "      <td>2012</td>\n",
              "      <td>1</td>\n",
              "      <td>8</td>\n",
              "      <td>10</td>\n",
              "      <td>24</td>\n",
              "      <td>3</td>\n",
              "      <td>0</td>\n",
              "      <td>0</td>\n",
              "      <td>1</td>\n",
              "      <td>0</td>\n",
              "      <td>1</td>\n",
              "      <td>0.0</td>\n",
              "      <td>0.000000</td>\n",
              "      <td>0.750000</td>\n",
              "      <td>0.0</td>\n",
              "      <td>1.857422</td>\n",
              "      <td>0.643066</td>\n",
              "    </tr>\n",
              "  </tbody>\n",
              "</table>\n",
              "</div>"
            ],
            "text/plain": [
              "        item_id  dept_id  store_id  ...  lag_28  rmean_28_7  rmean_28_28\n",
              "869062        1        0         0  ...     0.0    0.142822     0.214233\n",
              "869063        1        0         0  ...     1.0    0.142822     0.250000\n",
              "869069        3        0         0  ...     2.0    1.142578     1.678711\n",
              "869070        3        0         0  ...     0.0    1.000000     1.607422\n",
              "869076        4        0         0  ...     0.0    1.857422     0.643066\n",
              "\n",
              "[5 rows x 25 columns]"
            ]
          },
          "metadata": {
            "tags": []
          },
          "execution_count": 14
        }
      ]
    },
    {
      "cell_type": "markdown",
      "metadata": {
        "id": "dEke4qbObdKE",
        "colab_type": "text"
      },
      "source": [
        "# LGB"
      ]
    },
    {
      "cell_type": "code",
      "metadata": {
        "id": "m8WqGBTRbdKF",
        "colab_type": "code",
        "colab": {}
      },
      "source": [
        "def train_model(train_data,valid_data):\n",
        "    params = {\n",
        "        \"objective\" : \"tweedie\",\n",
        "        \"metric\" :\"rmse\",\n",
        "        \"force_row_wise\" : True,\n",
        "        \"learning_rate\" : 0.075,\n",
        "        \"sub_feature\" : 0.8,\n",
        "        \"sub_row\" : 0.75,\n",
        "        \"bagging_freq\" : 1,\n",
        "        \"lambda_l2\" : 0.1,\n",
        "        \"metric\": [\"rmse\"],\n",
        "        \"nthread\": 8,\n",
        "        \"tweedie_variance_power\":1.2,\n",
        "        'verbosity': 1,\n",
        "        'num_iterations' : 1500,\n",
        "        'num_leaves': 128,\n",
        "        \"min_data_in_leaf\": 104,\n",
        "#     'device_type': 'gpu'\n",
        "    }\n",
        "\n",
        "    m_lgb = lgb.train(params, train_data, valid_sets = [valid_data], verbose_eval=50)\n",
        "\n",
        "    return m_lgb"
      ],
      "execution_count": 0,
      "outputs": []
    },
    {
      "cell_type": "code",
      "metadata": {
        "id": "tbEXDqOSbdKM",
        "colab_type": "code",
        "colab": {}
      },
      "source": [
        "def predict_ensemble(train_cols,m_lgb):\n",
        "    date = datetime(2016,4, 25) # Initial prediction time\n",
        "    # alphas = [1.035, 1.03, 1.025, 1.02]\n",
        "    # alphas = [1.028, 1.023, 1.018]\n",
        "    alphas = [1.035, 1.03, 1.025]\n",
        "    weights = [1/len(alphas)]*len(alphas)\n",
        "    sub = 0.\n",
        "\n",
        "    test_data = create_train_data(is_train=False)\n",
        "    cols_F = [f\"F{i}\" for i in range(1,29)]\n",
        "    for icount, (alpha, weight) in enumerate(zip(alphas, weights)):\n",
        "        test_data_c = test_data.copy()\n",
        "        for i in range(0, 28):\n",
        "            day = date + timedelta(days=i)\n",
        "            # print(i, day)\n",
        "            tst = test_data_c[(test_data_c.date >= day - timedelta(days=57)) & (test_data_c.date <= day)].copy()\n",
        "            tst = create_feature(tst,is_train=False, day=day)\n",
        "            tst = tst.loc[tst.date == day , train_cols]\n",
        "\n",
        "            test_data_c.loc[test_data_c.date == day, \"sales\"] = alpha*m_lgb.predict(tst)\n",
        "\n",
        "        ## Conversion of forecast results to submission format\n",
        "        test_sub = test_data_c.loc[test_data_c.date >= date, [\"id\", \"sales\"]].copy()\n",
        "        test_sub[\"F\"] = [f\"F{rank}\" for rank in test_sub.groupby(\"id\")[\"id\"].cumcount()+1]\n",
        "        test_sub = test_sub.set_index([\"id\", \"F\" ]).unstack()[\"sales\"][cols_F].reset_index()\n",
        "        test_sub[cols_F].fillna(0., inplace = True)\n",
        "        test_sub.sort_values(\"id\", inplace = True)\n",
        "        test_sub.reset_index(drop=True, inplace = True)\n",
        "        test_sub.to_csv(f\"submission_{icount}.csv\",index=False)\n",
        "        if icount == 0 :\n",
        "            sub = test_sub\n",
        "            sub[cols_F] *= weight\n",
        "        else:\n",
        "            sub[cols_F] += test_sub[cols_F]*weight\n",
        "        print(icount, alpha, weight)\n",
        "    \n",
        "    sub2 = sub.copy()\n",
        "    # change id name from validation to evaluation\n",
        "    sub2[\"id\"] = sub2[\"id\"].str.replace(\"validation$\", \"evaluation\")\n",
        "    sub = pd.concat([sub, sub2], axis=0, sort=False)\n",
        "    sub.to_csv(OUTPUT_DIR,index=False)"
      ],
      "execution_count": 0,
      "outputs": []
    },
    {
      "cell_type": "code",
      "metadata": {
        "id": "CiWo0tqcbdKO",
        "colab_type": "code",
        "colab": {
          "base_uri": "https://localhost:8080/",
          "height": 1000
        },
        "outputId": "28e8fba1-e9d8-495a-baa9-2c2ff1b4141c"
      },
      "source": [
        "train_data = lgb.Dataset(X_train, label = y_train, categorical_feature=cat_feats, free_raw_data=False)\n",
        "valid_inds = np.random.choice(len(X_train), 10000)\n",
        "valid_data = lgb.Dataset(X_train.iloc[valid_inds], label = y_train.iloc[valid_inds],categorical_feature=cat_feats, free_raw_data=False) \n",
        "\n",
        "# del X_train\n",
        "# del y_train\n",
        "# gc.collect()\n",
        "\n",
        "m_lgb = train_model(train_data,valid_data) \n",
        "predict_ensemble(train_cols,m_lgb)"
      ],
      "execution_count": 17,
      "outputs": [
        {
          "output_type": "stream",
          "text": [
            "/usr/local/lib/python3.6/dist-packages/lightgbm/engine.py:118: UserWarning: Found `num_iterations` in params. Will use it instead of argument\n",
            "  warnings.warn(\"Found `{}` in params. Will use it instead of argument\".format(alias))\n",
            "/usr/local/lib/python3.6/dist-packages/lightgbm/basic.py:1205: UserWarning: Using categorical_feature in Dataset.\n",
            "  warnings.warn('Using categorical_feature in Dataset.')\n",
            "/usr/local/lib/python3.6/dist-packages/lightgbm/basic.py:762: UserWarning: categorical_feature in param dict is overridden.\n",
            "  warnings.warn('categorical_feature in param dict is overridden.')\n"
          ],
          "name": "stderr"
        },
        {
          "output_type": "stream",
          "text": [
            "[50]\tvalid_0's rmse: 2.11771\n",
            "[100]\tvalid_0's rmse: 2.00368\n",
            "[150]\tvalid_0's rmse: 1.96699\n",
            "[200]\tvalid_0's rmse: 1.9468\n",
            "[250]\tvalid_0's rmse: 1.9304\n",
            "[300]\tvalid_0's rmse: 1.92538\n",
            "[350]\tvalid_0's rmse: 1.92192\n",
            "[400]\tvalid_0's rmse: 1.9159\n",
            "[450]\tvalid_0's rmse: 1.90685\n",
            "[500]\tvalid_0's rmse: 1.90314\n",
            "[550]\tvalid_0's rmse: 1.90394\n",
            "[600]\tvalid_0's rmse: 1.90026\n",
            "[650]\tvalid_0's rmse: 1.90019\n",
            "[700]\tvalid_0's rmse: 1.89842\n",
            "[750]\tvalid_0's rmse: 1.89448\n",
            "[800]\tvalid_0's rmse: 1.89321\n",
            "[850]\tvalid_0's rmse: 1.89552\n",
            "[900]\tvalid_0's rmse: 1.89979\n",
            "[950]\tvalid_0's rmse: 1.90071\n",
            "[1000]\tvalid_0's rmse: 1.89861\n",
            "[1050]\tvalid_0's rmse: 1.90291\n",
            "[1100]\tvalid_0's rmse: 1.89813\n",
            "[1150]\tvalid_0's rmse: 1.89487\n",
            "[1200]\tvalid_0's rmse: 1.89113\n",
            "[1250]\tvalid_0's rmse: 1.89401\n",
            "[1300]\tvalid_0's rmse: 1.89139\n",
            "[1350]\tvalid_0's rmse: 1.89251\n",
            "[1400]\tvalid_0's rmse: 1.89199\n",
            "[1450]\tvalid_0's rmse: 1.89097\n",
            "[1500]\tvalid_0's rmse: 1.89159\n",
            "Mem. usage decreased to 45.77 Mb (22.2% reduction)\n",
            "Mem. usage decreased to  0.06 Mb (6.0% reduction)\n",
            "Mem. usage decreased to  8.45 Mb (44.0% reduction)\n",
            "0 2016-04-25 00:00:00\n",
            "1 2016-04-26 00:00:00\n",
            "2 2016-04-27 00:00:00\n",
            "3 2016-04-28 00:00:00\n",
            "4 2016-04-29 00:00:00\n",
            "5 2016-04-30 00:00:00\n",
            "6 2016-05-01 00:00:00\n",
            "7 2016-05-02 00:00:00\n",
            "8 2016-05-03 00:00:00\n",
            "9 2016-05-04 00:00:00\n",
            "10 2016-05-05 00:00:00\n",
            "11 2016-05-06 00:00:00\n",
            "12 2016-05-07 00:00:00\n",
            "13 2016-05-08 00:00:00\n",
            "14 2016-05-09 00:00:00\n",
            "15 2016-05-10 00:00:00\n",
            "16 2016-05-11 00:00:00\n",
            "17 2016-05-12 00:00:00\n",
            "18 2016-05-13 00:00:00\n",
            "19 2016-05-14 00:00:00\n",
            "20 2016-05-15 00:00:00\n",
            "21 2016-05-16 00:00:00\n",
            "22 2016-05-17 00:00:00\n",
            "23 2016-05-18 00:00:00\n",
            "24 2016-05-19 00:00:00\n",
            "25 2016-05-20 00:00:00\n",
            "26 2016-05-21 00:00:00\n",
            "27 2016-05-22 00:00:00\n"
          ],
          "name": "stdout"
        },
        {
          "output_type": "stream",
          "text": [
            "/usr/local/lib/python3.6/dist-packages/pandas/core/frame.py:4153: SettingWithCopyWarning: \n",
            "A value is trying to be set on a copy of a slice from a DataFrame\n",
            "\n",
            "See the caveats in the documentation: https://pandas.pydata.org/pandas-docs/stable/user_guide/indexing.html#returning-a-view-versus-a-copy\n",
            "  downcast=downcast,\n"
          ],
          "name": "stderr"
        },
        {
          "output_type": "stream",
          "text": [
            "0 1.035 0.3333333333333333\n",
            "0 2016-04-25 00:00:00\n",
            "1 2016-04-26 00:00:00\n",
            "2 2016-04-27 00:00:00\n",
            "3 2016-04-28 00:00:00\n",
            "4 2016-04-29 00:00:00\n",
            "5 2016-04-30 00:00:00\n",
            "6 2016-05-01 00:00:00\n",
            "7 2016-05-02 00:00:00\n",
            "8 2016-05-03 00:00:00\n",
            "9 2016-05-04 00:00:00\n",
            "10 2016-05-05 00:00:00\n",
            "11 2016-05-06 00:00:00\n",
            "12 2016-05-07 00:00:00\n",
            "13 2016-05-08 00:00:00\n",
            "14 2016-05-09 00:00:00\n",
            "15 2016-05-10 00:00:00\n",
            "16 2016-05-11 00:00:00\n",
            "17 2016-05-12 00:00:00\n",
            "18 2016-05-13 00:00:00\n",
            "19 2016-05-14 00:00:00\n",
            "20 2016-05-15 00:00:00\n",
            "21 2016-05-16 00:00:00\n",
            "22 2016-05-17 00:00:00\n",
            "23 2016-05-18 00:00:00\n",
            "24 2016-05-19 00:00:00\n",
            "25 2016-05-20 00:00:00\n",
            "26 2016-05-21 00:00:00\n",
            "27 2016-05-22 00:00:00\n"
          ],
          "name": "stdout"
        },
        {
          "output_type": "stream",
          "text": [
            "/usr/local/lib/python3.6/dist-packages/pandas/core/frame.py:4153: SettingWithCopyWarning: \n",
            "A value is trying to be set on a copy of a slice from a DataFrame\n",
            "\n",
            "See the caveats in the documentation: https://pandas.pydata.org/pandas-docs/stable/user_guide/indexing.html#returning-a-view-versus-a-copy\n",
            "  downcast=downcast,\n"
          ],
          "name": "stderr"
        },
        {
          "output_type": "stream",
          "text": [
            "1 1.03 0.3333333333333333\n",
            "0 2016-04-25 00:00:00\n",
            "1 2016-04-26 00:00:00\n",
            "2 2016-04-27 00:00:00\n",
            "3 2016-04-28 00:00:00\n",
            "4 2016-04-29 00:00:00\n",
            "5 2016-04-30 00:00:00\n",
            "6 2016-05-01 00:00:00\n",
            "7 2016-05-02 00:00:00\n",
            "8 2016-05-03 00:00:00\n",
            "9 2016-05-04 00:00:00\n",
            "10 2016-05-05 00:00:00\n",
            "11 2016-05-06 00:00:00\n",
            "12 2016-05-07 00:00:00\n",
            "13 2016-05-08 00:00:00\n",
            "14 2016-05-09 00:00:00\n",
            "15 2016-05-10 00:00:00\n",
            "16 2016-05-11 00:00:00\n",
            "17 2016-05-12 00:00:00\n",
            "18 2016-05-13 00:00:00\n",
            "19 2016-05-14 00:00:00\n",
            "20 2016-05-15 00:00:00\n",
            "21 2016-05-16 00:00:00\n",
            "22 2016-05-17 00:00:00\n",
            "23 2016-05-18 00:00:00\n",
            "24 2016-05-19 00:00:00\n",
            "25 2016-05-20 00:00:00\n",
            "26 2016-05-21 00:00:00\n",
            "27 2016-05-22 00:00:00\n",
            "2 1.025 0.3333333333333333\n"
          ],
          "name": "stdout"
        }
      ]
    },
    {
      "cell_type": "markdown",
      "metadata": {
        "id": "TorBKfBtbdKR",
        "colab_type": "text"
      },
      "source": [
        "# Feature importance"
      ]
    },
    {
      "cell_type": "code",
      "metadata": {
        "id": "iGVQ1E-ibdKR",
        "colab_type": "code",
        "colab": {}
      },
      "source": [
        "def plot_features(booster, figsize):    \n",
        "    fig, ax = plt.subplots(1,1,figsize=figsize)\n",
        "    return lgb.plot_importance(booster=booster, ax=ax)"
      ],
      "execution_count": 0,
      "outputs": []
    },
    {
      "cell_type": "code",
      "metadata": {
        "id": "HDXUTuW3bdKV",
        "colab_type": "code",
        "colab": {
          "base_uri": "https://localhost:8080/",
          "height": 856
        },
        "outputId": "f49ec9af-bd7a-4ddc-e0c6-b5b932adc8df"
      },
      "source": [
        "plot_features(m_lgb, (10,14))\n"
      ],
      "execution_count": 19,
      "outputs": [
        {
          "output_type": "execute_result",
          "data": {
            "text/plain": [
              "<matplotlib.axes._subplots.AxesSubplot at 0x7f78ba7a0940>"
            ]
          },
          "metadata": {
            "tags": []
          },
          "execution_count": 19
        },
        {
          "output_type": "display_data",
          "data": {
            "image/png": "[encoded data removed]",
            "text/plain": [
              "<Figure size 720x1008 with 1 Axes>"
            ]
          },
          "metadata": {
            "tags": [],
            "needs_background": "light"
          }
        }
      ]
    }
  ]
}